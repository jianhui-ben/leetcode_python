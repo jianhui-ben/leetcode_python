{
 "cells": [
  {
   "cell_type": "code",
   "execution_count": 4,
   "metadata": {},
   "outputs": [],
   "source": [
    "class TreeNode:\n",
    "    def __init__(self, data=None):\n",
    "        self.data = data\n",
    "        self.left_child =None\n",
    "        self.right_child=None\n",
    "\n",
    "    def get_value(self):\n",
    "        return self.data\n",
    "\n",
    "    def add_left_child(self, left):\n",
    "        self.left_child=left\n",
    "        \n",
    "    def add_right_child(self, right):\n",
    "        self.right_child=right\n",
    "        \n",
    "    def get_left_child(self):\n",
    "        return self.left_child\n",
    "    \n",
    "    def get_right_child(self):\n",
    "        return self.right_child   \n",
    "\n",
    "class Tree:\n",
    "    def __init__(self):\n",
    "        self.root=TreeNode()\n",
    "    def get_root(self):\n",
    "        return self.root"
   ]
  },
  {
   "cell_type": "markdown",
   "metadata": {},
   "source": [
    "## depth first serach"
   ]
  },
  {
   "cell_type": "code",
   "execution_count": 5,
   "metadata": {},
   "outputs": [],
   "source": [
    "## pre-order\n",
    "\n",
    "## recursion:\n",
    "def pre_order(tree):\n",
    "    visit= []\n",
    "    root= tree.get_root()\n",
    "    \n",
    "    def traverse(node):\n",
    "        if node:\n",
    "            visit.append(node.get_value())\n",
    "            traverse(node.get_left_child())\n",
    "            traverse(node.get_right_child())\n",
    "    traverse(root)\n",
    "    return visit\n",
    "\n",
    "def pre_order_iterative(tree):\n",
    "    visit=[]\n",
    "    root= tree.get_root()    \n",
    "    stack=[root]\n",
    "    while stack:\n",
    "        node= stack.pop()\n",
    "        visit.append(node.data)\n",
    "        if node.get_right_child():\n",
    "            stack.append(node.get_right_child())\n",
    "        if node.get_left_child():\n",
    "            stack.append(node.get_left_child())\n",
    "    return visit"
   ]
  },
  {
   "cell_type": "code",
   "execution_count": null,
   "metadata": {},
   "outputs": [],
   "source": [
    "## in-order\n",
    "\n",
    "## recursion:\n",
    "def in_order(tree):\n",
    "    visit= []\n",
    "    root= tree.get_root()\n",
    "    \n",
    "    def traverse(node):\n",
    "        if node:\n",
    "            traverse(node.get_left_child())\n",
    "            visit.append(node.get_value())\n",
    "            traverse(node.get_right_child())\n",
    "    traverse(root)\n",
    "    return visit\n",
    "\n",
    "def in_order_iterative(tree):\n",
    "    visit=[]\n",
    "    root= tree.get_root()    \n",
    "    while stack or root:\n",
    "        if root:\n",
    "            stack.append(root)\n",
    "            root=root.left\n",
    "        else:\n",
    "            node=stack.pop()\n",
    "            visit.append(node.data)\n",
    "            root= node.rig  ht\n",
    "    return visit"
   ]
  },
  {
   "cell_type": "code",
   "execution_count": null,
   "metadata": {},
   "outputs": [],
   "source": [
    "## post-order\n",
    "\n",
    "## recursion:\n",
    "def post_order(tree):\n",
    "    visit= []\n",
    "    root= tree.get_root()\n",
    "    \n",
    "    def traverse(node):\n",
    "        if node:\n",
    "            traverse(node.get_left_child())\n",
    "            traverse(node.get_right_child())\n",
    "            visit.append(node.get_value())\n",
    "    traverse(root)\n",
    "    return visit\n",
    "\n",
    "def postorderTraversal(self, root: TreeNode) -> List[int]:\n",
    "        if not root:\n",
    "            return []\n",
    "        stack = [root]\n",
    "        explored = set()\n",
    "        output = []\n",
    "        while stack:\n",
    "            # don't pop yet because we may need to explore this node's children first\n",
    "            curr = stack[-1]\n",
    "            # if we haven't explored the children of this node\n",
    "            if curr not in explored:\n",
    "                if curr.right:\n",
    "                    stack.append(curr.right)\n",
    "                if curr.left:    \n",
    "                    stack.append(curr.left)\n",
    "                # we have explored the children of this node so next time we see it, simply print it    \n",
    "                explored.add(curr)\n",
    "            # If we have explored the children of this node, print the node and pop it. We are done with it\n",
    "            else:     \n",
    "                # add the node to output and pop it. We are done with it\n",
    "                output.append(curr.val)\n",
    "                stack.pop()\n",
    "        return output\n",
    "        "
   ]
  },
  {
   "cell_type": "markdown",
   "metadata": {},
   "source": [
    "## bredth-first search"
   ]
  },
  {
   "cell_type": "code",
   "execution_count": 7,
   "metadata": {},
   "outputs": [],
   "source": [
    "def bfs(tree):\n",
    "    queue=[tree.get_root()]\n",
    "    visit=[]\n",
    "    while queue:\n",
    "        node=queue.pop(0)\n",
    "        visit.append(node.data)\n",
    "        if node.left_child:\n",
    "            queue.append(node.left_child)\n",
    "        if node.right_child:\n",
    "            queu.append(node.right_child)\n",
    "    return visit"
   ]
  },
  {
   "cell_type": "code",
   "execution_count": null,
   "metadata": {},
   "outputs": [],
   "source": []
  },
  {
   "cell_type": "code",
   "execution_count": null,
   "metadata": {},
   "outputs": [],
   "source": []
  }
 ],
 "metadata": {
  "kernelspec": {
   "display_name": "Python 3",
   "language": "python",
   "name": "python3"
  },
  "language_info": {
   "codemirror_mode": {
    "name": "ipython",
    "version": 3
   },
   "file_extension": ".py",
   "mimetype": "text/x-python",
   "name": "python",
   "nbconvert_exporter": "python",
   "pygments_lexer": "ipython3",
   "version": "3.7.1"
  }
 },
 "nbformat": 4,
 "nbformat_minor": 2
}
